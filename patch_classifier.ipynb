{
 "cells": [
  {
   "cell_type": "code",
   "execution_count": 1,
   "metadata": {},
   "outputs": [],
   "source": [
    "%load_ext autoreload\n",
    "%autoreload 2\n",
    "\n",
    "import utils\n",
    "import pandas as pd\n",
    "import config\n",
    "from PIL import Image\n",
    "import json\n",
    "from patch_classifier import PatchClassifier\n",
    "import lightning as L\n",
    "from dataloader import CustomDataModule\n",
    "import config\n",
    "import utils\n",
    "from pytorch_lightning.loggers import TensorBoardLogger\n",
    "from torchvision.models import resnet50, ResNet50_Weights\n",
    "import torch\n",
    "from torch.utils.data import ConcatDataset, DataLoader"
   ]
  },
  {
   "cell_type": "code",
   "execution_count": 2,
   "metadata": {},
   "outputs": [
    {
     "name": "stderr",
     "output_type": "stream",
     "text": [
      "GPU available: True (cuda), used: True\n",
      "TPU available: False, using: 0 TPU cores\n",
      "HPU available: False, using: 0 HPUs\n"
     ]
    },
    {
     "name": "stdout",
     "output_type": "stream",
     "text": [
      "Using device: cuda\n"
     ]
    }
   ],
   "source": [
    "# CUDA\n",
    "device = \"cuda\" if torch.cuda.is_available() else \"cpu\"\n",
    "print(f\"Using device: {device}\")\n",
    "\n",
    "# HPARAMS\n",
    "batch_size = 32\n",
    "learning_rate= 0.001\n",
    "\n",
    "# TRAINER\n",
    "tensorboard_logger = TensorBoardLogger(\"lightning_logs\", name=\"performance_final\")\n",
    "trainer = L.Trainer(\n",
    "    max_epochs=8,\n",
    "    enable_progress_bar=True,\n",
    "    accelerator=\"gpu\" if device == \"cuda\" else \"cpu\",\n",
    "    logger=tensorboard_logger\n",
    ")\n",
    "\n",
    "# DATAMODULES\n",
    "data_module = CustomDataModule(csv_file=config.EXPORT3, num_workers=4, batch_size=batch_size, mode='patch')\n",
    "data_module.setup()\n",
    "\n",
    "train_loader = data_module.train_dataloader()   \n",
    "val_loader = data_module.val_dataloader()\n",
    "\n",
    "# MODEL DEFINITION\n",
    "resnet = resnet50(weights=ResNet50_Weights.DEFAULT)\n",
    "model = PatchClassifier(feature_extractor=resnet, learning_rate=learning_rate)\n"
   ]
  },
  {
   "cell_type": "code",
   "execution_count": 3,
   "metadata": {},
   "outputs": [
    {
     "name": "stderr",
     "output_type": "stream",
     "text": [
      "Trainer will use only 1 of 4 GPUs because it is running inside an interactive / notebook environment. You may try to set `Trainer(devices=4)` but please note that multi-GPU inside interactive / notebook environments is considered experimental and unstable. Your mileage may vary.\n",
      "GPU available: True (cuda), used: True\n",
      "TPU available: False, using: 0 TPU cores\n",
      "HPU available: False, using: 0 HPUs\n"
     ]
    },
    {
     "name": "stderr",
     "output_type": "stream",
     "text": [
      "You are using a CUDA device ('NVIDIA L40S') that has Tensor Cores. To properly utilize them, you should set `torch.set_float32_matmul_precision('medium' | 'high')` which will trade-off precision for performance. For more details, read https://pytorch.org/docs/stable/generated/torch.set_float32_matmul_precision.html#torch.set_float32_matmul_precision\n",
      "LOCAL_RANK: 0 - CUDA_VISIBLE_DEVICES: [0,1,2,3]\n",
      "\n",
      "  | Name              | Type             | Params | Mode \n",
      "---------------------------------------------------------------\n",
      "0 | feature_extractor | ResNet           | 25.6 M | eval \n",
      "1 | classifier        | Sequential       | 611 K  | train\n",
      "2 | fb                | BinaryFBetaScore | 0      | train\n",
      "3 | recall            | BinaryRecall     | 0      | train\n",
      "4 | precision         | BinaryPrecision  | 0      | train\n",
      "5 | roc               | BinaryROC        | 0      | train\n",
      "6 | accuracy          | BinaryAccuracy   | 0      | train\n",
      "---------------------------------------------------------------\n",
      "611 K     Trainable params\n",
      "25.6 M    Non-trainable params\n",
      "26.2 M    Total params\n",
      "104.674   Total estimated model params size (MB)\n",
      "15        Modules in train mode\n",
      "151       Modules in eval mode\n"
     ]
    },
    {
     "data": {
      "application/vnd.jupyter.widget-view+json": {
       "model_id": "1801d31c839c47d2857c6237404bd290",
       "version_major": 2,
       "version_minor": 0
      },
      "text/plain": [
       "Sanity Checking: |          | 0/? [00:00<?, ?it/s]"
      ]
     },
     "metadata": {},
     "output_type": "display_data"
    },
    {
     "data": {
      "application/vnd.jupyter.widget-view+json": {
       "model_id": "98687235c1de41d78969613880412d20",
       "version_major": 2,
       "version_minor": 0
      },
      "text/plain": [
       "Training: |          | 0/? [00:00<?, ?it/s]"
      ]
     },
     "metadata": {},
     "output_type": "display_data"
    },
    {
     "data": {
      "application/vnd.jupyter.widget-view+json": {
       "model_id": "7e2761a3e71f4b00aa1194f73754a685",
       "version_major": 2,
       "version_minor": 0
      },
      "text/plain": [
       "Validation: |          | 0/? [00:00<?, ?it/s]"
      ]
     },
     "metadata": {},
     "output_type": "display_data"
    },
    {
     "data": {
      "application/vnd.jupyter.widget-view+json": {
       "model_id": "864e9529cd964976a3ccd9bb5f401c0b",
       "version_major": 2,
       "version_minor": 0
      },
      "text/plain": [
       "Validation: |          | 0/? [00:00<?, ?it/s]"
      ]
     },
     "metadata": {},
     "output_type": "display_data"
    },
    {
     "data": {
      "application/vnd.jupyter.widget-view+json": {
       "model_id": "96f176c51d724a3c91dd40e5249045b0",
       "version_major": 2,
       "version_minor": 0
      },
      "text/plain": [
       "Validation: |          | 0/? [00:00<?, ?it/s]"
      ]
     },
     "metadata": {},
     "output_type": "display_data"
    },
    {
     "data": {
      "application/vnd.jupyter.widget-view+json": {
       "model_id": "308778f3c95843e5a3e92276fc5ac08a",
       "version_major": 2,
       "version_minor": 0
      },
      "text/plain": [
       "Validation: |          | 0/? [00:00<?, ?it/s]"
      ]
     },
     "metadata": {},
     "output_type": "display_data"
    },
    {
     "data": {
      "application/vnd.jupyter.widget-view+json": {
       "model_id": "a7776205f53a471c9668ebc51f5af0a4",
       "version_major": 2,
       "version_minor": 0
      },
      "text/plain": [
       "Validation: |          | 0/? [00:00<?, ?it/s]"
      ]
     },
     "metadata": {},
     "output_type": "display_data"
    },
    {
     "data": {
      "application/vnd.jupyter.widget-view+json": {
       "model_id": "a19cd3f8b53a408ea1182717bc76509e",
       "version_major": 2,
       "version_minor": 0
      },
      "text/plain": [
       "Validation: |          | 0/? [00:00<?, ?it/s]"
      ]
     },
     "metadata": {},
     "output_type": "display_data"
    },
    {
     "data": {
      "application/vnd.jupyter.widget-view+json": {
       "model_id": "d07379aef4c1464c867c7cef8439d264",
       "version_major": 2,
       "version_minor": 0
      },
      "text/plain": [
       "Validation: |          | 0/? [00:00<?, ?it/s]"
      ]
     },
     "metadata": {},
     "output_type": "display_data"
    },
    {
     "data": {
      "application/vnd.jupyter.widget-view+json": {
       "model_id": "9e9a6e9d585e4c1dac5a4965de8a917c",
       "version_major": 2,
       "version_minor": 0
      },
      "text/plain": [
       "Validation: |          | 0/? [00:00<?, ?it/s]"
      ]
     },
     "metadata": {},
     "output_type": "display_data"
    },
    {
     "name": "stderr",
     "output_type": "stream",
     "text": [
      "`Trainer.fit` stopped: `max_epochs=8` reached.\n",
      "Trainer will use only 1 of 4 GPUs because it is running inside an interactive / notebook environment. You may try to set `Trainer(devices=4)` but please note that multi-GPU inside interactive / notebook environments is considered experimental and unstable. Your mileage may vary.\n",
      "GPU available: True (cuda), used: True\n",
      "TPU available: False, using: 0 TPU cores\n",
      "HPU available: False, using: 0 HPUs\n",
      "LOCAL_RANK: 0 - CUDA_VISIBLE_DEVICES: [0,1,2,3]\n",
      "\n",
      "  | Name              | Type             | Params | Mode \n",
      "---------------------------------------------------------------\n",
      "0 | feature_extractor | ResNet           | 25.6 M | eval \n",
      "1 | classifier        | Sequential       | 611 K  | train\n",
      "2 | fb                | BinaryFBetaScore | 0      | train\n",
      "3 | recall            | BinaryRecall     | 0      | train\n",
      "4 | precision         | BinaryPrecision  | 0      | train\n",
      "5 | roc               | BinaryROC        | 0      | train\n",
      "6 | accuracy          | BinaryAccuracy   | 0      | train\n",
      "---------------------------------------------------------------\n",
      "611 K     Trainable params\n",
      "25.6 M    Non-trainable params\n",
      "26.2 M    Total params\n",
      "104.674   Total estimated model params size (MB)\n",
      "15        Modules in train mode\n",
      "151       Modules in eval mode\n"
     ]
    },
    {
     "name": "stdout",
     "output_type": "stream",
     "text": [
      "New best model saved with F-beta: 0.9470765590667725 at batch size 32 and learning rate 0.01\n"
     ]
    },
    {
     "data": {
      "application/vnd.jupyter.widget-view+json": {
       "model_id": "eddc99c5cefe4843838f72cc38390f07",
       "version_major": 2,
       "version_minor": 0
      },
      "text/plain": [
       "Sanity Checking: |          | 0/? [00:00<?, ?it/s]"
      ]
     },
     "metadata": {},
     "output_type": "display_data"
    },
    {
     "data": {
      "application/vnd.jupyter.widget-view+json": {
       "model_id": "9f36f8d6d8b24fedbf7d4e28ff767e6d",
       "version_major": 2,
       "version_minor": 0
      },
      "text/plain": [
       "Training: |          | 0/? [00:00<?, ?it/s]"
      ]
     },
     "metadata": {},
     "output_type": "display_data"
    },
    {
     "data": {
      "application/vnd.jupyter.widget-view+json": {
       "model_id": "5bf411f01dc94b298076d187d84dfdcd",
       "version_major": 2,
       "version_minor": 0
      },
      "text/plain": [
       "Validation: |          | 0/? [00:00<?, ?it/s]"
      ]
     },
     "metadata": {},
     "output_type": "display_data"
    },
    {
     "data": {
      "application/vnd.jupyter.widget-view+json": {
       "model_id": "88a52339641b4ac5938ac142de4e0a7e",
       "version_major": 2,
       "version_minor": 0
      },
      "text/plain": [
       "Validation: |          | 0/? [00:00<?, ?it/s]"
      ]
     },
     "metadata": {},
     "output_type": "display_data"
    },
    {
     "data": {
      "application/vnd.jupyter.widget-view+json": {
       "model_id": "e78fa9d481c54515b59dd62ba444e0c1",
       "version_major": 2,
       "version_minor": 0
      },
      "text/plain": [
       "Validation: |          | 0/? [00:00<?, ?it/s]"
      ]
     },
     "metadata": {},
     "output_type": "display_data"
    },
    {
     "data": {
      "application/vnd.jupyter.widget-view+json": {
       "model_id": "db3ee607f9594091904e1061bb745f6c",
       "version_major": 2,
       "version_minor": 0
      },
      "text/plain": [
       "Validation: |          | 0/? [00:00<?, ?it/s]"
      ]
     },
     "metadata": {},
     "output_type": "display_data"
    },
    {
     "data": {
      "application/vnd.jupyter.widget-view+json": {
       "model_id": "377cadf5c4f04e04a839f5e095dc65bc",
       "version_major": 2,
       "version_minor": 0
      },
      "text/plain": [
       "Validation: |          | 0/? [00:00<?, ?it/s]"
      ]
     },
     "metadata": {},
     "output_type": "display_data"
    },
    {
     "data": {
      "application/vnd.jupyter.widget-view+json": {
       "model_id": "496cc3a9e83a48c38c73f54137a171ce",
       "version_major": 2,
       "version_minor": 0
      },
      "text/plain": [
       "Validation: |          | 0/? [00:00<?, ?it/s]"
      ]
     },
     "metadata": {},
     "output_type": "display_data"
    },
    {
     "data": {
      "application/vnd.jupyter.widget-view+json": {
       "model_id": "5584fd9ced894570ae01a680c14bd920",
       "version_major": 2,
       "version_minor": 0
      },
      "text/plain": [
       "Validation: |          | 0/? [00:00<?, ?it/s]"
      ]
     },
     "metadata": {},
     "output_type": "display_data"
    },
    {
     "data": {
      "application/vnd.jupyter.widget-view+json": {
       "model_id": "680a9310c50543e68cc1fe2851b4ec34",
       "version_major": 2,
       "version_minor": 0
      },
      "text/plain": [
       "Validation: |          | 0/? [00:00<?, ?it/s]"
      ]
     },
     "metadata": {},
     "output_type": "display_data"
    },
    {
     "name": "stderr",
     "output_type": "stream",
     "text": [
      "`Trainer.fit` stopped: `max_epochs=8` reached.\n",
      "Trainer will use only 1 of 4 GPUs because it is running inside an interactive / notebook environment. You may try to set `Trainer(devices=4)` but please note that multi-GPU inside interactive / notebook environments is considered experimental and unstable. Your mileage may vary.\n",
      "GPU available: True (cuda), used: True\n",
      "TPU available: False, using: 0 TPU cores\n",
      "HPU available: False, using: 0 HPUs\n",
      "LOCAL_RANK: 0 - CUDA_VISIBLE_DEVICES: [0,1,2,3]\n",
      "\n",
      "  | Name              | Type             | Params | Mode \n",
      "---------------------------------------------------------------\n",
      "0 | feature_extractor | ResNet           | 25.6 M | eval \n",
      "1 | classifier        | Sequential       | 611 K  | train\n",
      "2 | fb                | BinaryFBetaScore | 0      | train\n",
      "3 | recall            | BinaryRecall     | 0      | train\n",
      "4 | precision         | BinaryPrecision  | 0      | train\n",
      "5 | roc               | BinaryROC        | 0      | train\n",
      "6 | accuracy          | BinaryAccuracy   | 0      | train\n",
      "---------------------------------------------------------------\n",
      "611 K     Trainable params\n",
      "25.6 M    Non-trainable params\n",
      "26.2 M    Total params\n",
      "104.674   Total estimated model params size (MB)\n",
      "15        Modules in train mode\n",
      "151       Modules in eval mode\n"
     ]
    },
    {
     "data": {
      "application/vnd.jupyter.widget-view+json": {
       "model_id": "dda348d593a84369ab25c685284454e6",
       "version_major": 2,
       "version_minor": 0
      },
      "text/plain": [
       "Sanity Checking: |          | 0/? [00:00<?, ?it/s]"
      ]
     },
     "metadata": {},
     "output_type": "display_data"
    },
    {
     "data": {
      "application/vnd.jupyter.widget-view+json": {
       "model_id": "9fb40cb379684f2f96324291a989e2c5",
       "version_major": 2,
       "version_minor": 0
      },
      "text/plain": [
       "Training: |          | 0/? [00:00<?, ?it/s]"
      ]
     },
     "metadata": {},
     "output_type": "display_data"
    },
    {
     "data": {
      "application/vnd.jupyter.widget-view+json": {
       "model_id": "c13bb3c34a94452d88ca91f4cdb61a2f",
       "version_major": 2,
       "version_minor": 0
      },
      "text/plain": [
       "Validation: |          | 0/? [00:00<?, ?it/s]"
      ]
     },
     "metadata": {},
     "output_type": "display_data"
    },
    {
     "data": {
      "application/vnd.jupyter.widget-view+json": {
       "model_id": "bc833bfaee4740cd9bbfb371259b3454",
       "version_major": 2,
       "version_minor": 0
      },
      "text/plain": [
       "Validation: |          | 0/? [00:00<?, ?it/s]"
      ]
     },
     "metadata": {},
     "output_type": "display_data"
    },
    {
     "data": {
      "application/vnd.jupyter.widget-view+json": {
       "model_id": "eea4c9f341324d65b29eb06bd65a1f49",
       "version_major": 2,
       "version_minor": 0
      },
      "text/plain": [
       "Validation: |          | 0/? [00:00<?, ?it/s]"
      ]
     },
     "metadata": {},
     "output_type": "display_data"
    },
    {
     "data": {
      "application/vnd.jupyter.widget-view+json": {
       "model_id": "bbede60b25a4484fa4eaacac5ff35a3a",
       "version_major": 2,
       "version_minor": 0
      },
      "text/plain": [
       "Validation: |          | 0/? [00:00<?, ?it/s]"
      ]
     },
     "metadata": {},
     "output_type": "display_data"
    },
    {
     "data": {
      "application/vnd.jupyter.widget-view+json": {
       "model_id": "2e8c4a2e89a044eba32111e102b236bf",
       "version_major": 2,
       "version_minor": 0
      },
      "text/plain": [
       "Validation: |          | 0/? [00:00<?, ?it/s]"
      ]
     },
     "metadata": {},
     "output_type": "display_data"
    },
    {
     "data": {
      "application/vnd.jupyter.widget-view+json": {
       "model_id": "39391e05c3ba45b2918516dac8affb00",
       "version_major": 2,
       "version_minor": 0
      },
      "text/plain": [
       "Validation: |          | 0/? [00:00<?, ?it/s]"
      ]
     },
     "metadata": {},
     "output_type": "display_data"
    },
    {
     "data": {
      "application/vnd.jupyter.widget-view+json": {
       "model_id": "f17abb03927543688f4351aeaa79ac2a",
       "version_major": 2,
       "version_minor": 0
      },
      "text/plain": [
       "Validation: |          | 0/? [00:00<?, ?it/s]"
      ]
     },
     "metadata": {},
     "output_type": "display_data"
    },
    {
     "data": {
      "application/vnd.jupyter.widget-view+json": {
       "model_id": "2e3b16497eab402d99a2c0abee86e2f4",
       "version_major": 2,
       "version_minor": 0
      },
      "text/plain": [
       "Validation: |          | 0/? [00:00<?, ?it/s]"
      ]
     },
     "metadata": {},
     "output_type": "display_data"
    },
    {
     "name": "stderr",
     "output_type": "stream",
     "text": [
      "`Trainer.fit` stopped: `max_epochs=8` reached.\n",
      "Trainer will use only 1 of 4 GPUs because it is running inside an interactive / notebook environment. You may try to set `Trainer(devices=4)` but please note that multi-GPU inside interactive / notebook environments is considered experimental and unstable. Your mileage may vary.\n",
      "GPU available: True (cuda), used: True\n",
      "TPU available: False, using: 0 TPU cores\n",
      "HPU available: False, using: 0 HPUs\n",
      "LOCAL_RANK: 0 - CUDA_VISIBLE_DEVICES: [0,1,2,3]\n",
      "\n",
      "  | Name              | Type             | Params | Mode \n",
      "---------------------------------------------------------------\n",
      "0 | feature_extractor | ResNet           | 25.6 M | eval \n",
      "1 | classifier        | Sequential       | 611 K  | train\n",
      "2 | fb                | BinaryFBetaScore | 0      | train\n",
      "3 | recall            | BinaryRecall     | 0      | train\n",
      "4 | precision         | BinaryPrecision  | 0      | train\n",
      "5 | roc               | BinaryROC        | 0      | train\n",
      "6 | accuracy          | BinaryAccuracy   | 0      | train\n",
      "---------------------------------------------------------------\n",
      "611 K     Trainable params\n",
      "25.6 M    Non-trainable params\n",
      "26.2 M    Total params\n",
      "104.674   Total estimated model params size (MB)\n",
      "15        Modules in train mode\n",
      "151       Modules in eval mode\n"
     ]
    },
    {
     "name": "stdout",
     "output_type": "stream",
     "text": [
      "New best model saved with F-beta: 0.9605153203010559 at batch size 32 and learning rate 0.001\n"
     ]
    },
    {
     "data": {
      "application/vnd.jupyter.widget-view+json": {
       "model_id": "ca1d670392cc495eb35d7c88358b1495",
       "version_major": 2,
       "version_minor": 0
      },
      "text/plain": [
       "Sanity Checking: |          | 0/? [00:00<?, ?it/s]"
      ]
     },
     "metadata": {},
     "output_type": "display_data"
    },
    {
     "data": {
      "application/vnd.jupyter.widget-view+json": {
       "model_id": "31d6046d87744afabdce7bab00cc1c0f",
       "version_major": 2,
       "version_minor": 0
      },
      "text/plain": [
       "Training: |          | 0/? [00:00<?, ?it/s]"
      ]
     },
     "metadata": {},
     "output_type": "display_data"
    },
    {
     "data": {
      "application/vnd.jupyter.widget-view+json": {
       "model_id": "d41ea733458a4f6dbfbb00b788151b92",
       "version_major": 2,
       "version_minor": 0
      },
      "text/plain": [
       "Validation: |          | 0/? [00:00<?, ?it/s]"
      ]
     },
     "metadata": {},
     "output_type": "display_data"
    },
    {
     "data": {
      "application/vnd.jupyter.widget-view+json": {
       "model_id": "a3681049e6d4454086fd477478d4ea57",
       "version_major": 2,
       "version_minor": 0
      },
      "text/plain": [
       "Validation: |          | 0/? [00:00<?, ?it/s]"
      ]
     },
     "metadata": {},
     "output_type": "display_data"
    },
    {
     "data": {
      "application/vnd.jupyter.widget-view+json": {
       "model_id": "fd853802391d43149bb66eb2375f49c3",
       "version_major": 2,
       "version_minor": 0
      },
      "text/plain": [
       "Validation: |          | 0/? [00:00<?, ?it/s]"
      ]
     },
     "metadata": {},
     "output_type": "display_data"
    },
    {
     "data": {
      "application/vnd.jupyter.widget-view+json": {
       "model_id": "1c7bdbdcbb1d48debf78d722500dda5d",
       "version_major": 2,
       "version_minor": 0
      },
      "text/plain": [
       "Validation: |          | 0/? [00:00<?, ?it/s]"
      ]
     },
     "metadata": {},
     "output_type": "display_data"
    },
    {
     "data": {
      "application/vnd.jupyter.widget-view+json": {
       "model_id": "6a098dea836049b49ff3e5a63c2f56d4",
       "version_major": 2,
       "version_minor": 0
      },
      "text/plain": [
       "Validation: |          | 0/? [00:00<?, ?it/s]"
      ]
     },
     "metadata": {},
     "output_type": "display_data"
    },
    {
     "data": {
      "application/vnd.jupyter.widget-view+json": {
       "model_id": "bf3243e8666344e396983a29cc212577",
       "version_major": 2,
       "version_minor": 0
      },
      "text/plain": [
       "Validation: |          | 0/? [00:00<?, ?it/s]"
      ]
     },
     "metadata": {},
     "output_type": "display_data"
    },
    {
     "data": {
      "application/vnd.jupyter.widget-view+json": {
       "model_id": "b14e8a951f6a4cd09efc8beb08e72632",
       "version_major": 2,
       "version_minor": 0
      },
      "text/plain": [
       "Validation: |          | 0/? [00:00<?, ?it/s]"
      ]
     },
     "metadata": {},
     "output_type": "display_data"
    },
    {
     "data": {
      "application/vnd.jupyter.widget-view+json": {
       "model_id": "afcec6aee267493796ca968b0fa1c0ce",
       "version_major": 2,
       "version_minor": 0
      },
      "text/plain": [
       "Validation: |          | 0/? [00:00<?, ?it/s]"
      ]
     },
     "metadata": {},
     "output_type": "display_data"
    },
    {
     "name": "stderr",
     "output_type": "stream",
     "text": [
      "`Trainer.fit` stopped: `max_epochs=8` reached.\n",
      "Trainer will use only 1 of 4 GPUs because it is running inside an interactive / notebook environment. You may try to set `Trainer(devices=4)` but please note that multi-GPU inside interactive / notebook environments is considered experimental and unstable. Your mileage may vary.\n",
      "GPU available: True (cuda), used: True\n",
      "TPU available: False, using: 0 TPU cores\n",
      "HPU available: False, using: 0 HPUs\n",
      "LOCAL_RANK: 0 - CUDA_VISIBLE_DEVICES: [0,1,2,3]\n",
      "\n",
      "  | Name              | Type             | Params | Mode \n",
      "---------------------------------------------------------------\n",
      "0 | feature_extractor | ResNet           | 25.6 M | eval \n",
      "1 | classifier        | Sequential       | 611 K  | train\n",
      "2 | fb                | BinaryFBetaScore | 0      | train\n",
      "3 | recall            | BinaryRecall     | 0      | train\n",
      "4 | precision         | BinaryPrecision  | 0      | train\n",
      "5 | roc               | BinaryROC        | 0      | train\n",
      "6 | accuracy          | BinaryAccuracy   | 0      | train\n",
      "---------------------------------------------------------------\n",
      "611 K     Trainable params\n",
      "25.6 M    Non-trainable params\n",
      "26.2 M    Total params\n",
      "104.674   Total estimated model params size (MB)\n",
      "15        Modules in train mode\n",
      "151       Modules in eval mode\n"
     ]
    },
    {
     "data": {
      "application/vnd.jupyter.widget-view+json": {
       "model_id": "6980d5898d70400a8c5123ad14282945",
       "version_major": 2,
       "version_minor": 0
      },
      "text/plain": [
       "Sanity Checking: |          | 0/? [00:00<?, ?it/s]"
      ]
     },
     "metadata": {},
     "output_type": "display_data"
    },
    {
     "data": {
      "application/vnd.jupyter.widget-view+json": {
       "model_id": "c0836e3c424d44078d7d01428964d3d4",
       "version_major": 2,
       "version_minor": 0
      },
      "text/plain": [
       "Training: |          | 0/? [00:00<?, ?it/s]"
      ]
     },
     "metadata": {},
     "output_type": "display_data"
    },
    {
     "data": {
      "application/vnd.jupyter.widget-view+json": {
       "model_id": "df8c9adb03de49df87b30383a5478966",
       "version_major": 2,
       "version_minor": 0
      },
      "text/plain": [
       "Validation: |          | 0/? [00:00<?, ?it/s]"
      ]
     },
     "metadata": {},
     "output_type": "display_data"
    },
    {
     "data": {
      "application/vnd.jupyter.widget-view+json": {
       "model_id": "626df7eabed2482392a8a1f8dd5578eb",
       "version_major": 2,
       "version_minor": 0
      },
      "text/plain": [
       "Validation: |          | 0/? [00:00<?, ?it/s]"
      ]
     },
     "metadata": {},
     "output_type": "display_data"
    },
    {
     "data": {
      "application/vnd.jupyter.widget-view+json": {
       "model_id": "6e0d5b0cbb254bd38384c25590e10570",
       "version_major": 2,
       "version_minor": 0
      },
      "text/plain": [
       "Validation: |          | 0/? [00:00<?, ?it/s]"
      ]
     },
     "metadata": {},
     "output_type": "display_data"
    },
    {
     "data": {
      "application/vnd.jupyter.widget-view+json": {
       "model_id": "fc1475b09c724cce8d690b085f16485f",
       "version_major": 2,
       "version_minor": 0
      },
      "text/plain": [
       "Validation: |          | 0/? [00:00<?, ?it/s]"
      ]
     },
     "metadata": {},
     "output_type": "display_data"
    },
    {
     "data": {
      "application/vnd.jupyter.widget-view+json": {
       "model_id": "d819ad9d2a17433e98fc3a9e00da055a",
       "version_major": 2,
       "version_minor": 0
      },
      "text/plain": [
       "Validation: |          | 0/? [00:00<?, ?it/s]"
      ]
     },
     "metadata": {},
     "output_type": "display_data"
    },
    {
     "data": {
      "application/vnd.jupyter.widget-view+json": {
       "model_id": "7a9f2ad4ee99420d885bf9c5b6b49e6b",
       "version_major": 2,
       "version_minor": 0
      },
      "text/plain": [
       "Validation: |          | 0/? [00:00<?, ?it/s]"
      ]
     },
     "metadata": {},
     "output_type": "display_data"
    },
    {
     "data": {
      "application/vnd.jupyter.widget-view+json": {
       "model_id": "6fc9c18697334e9ab405dc2f432d702e",
       "version_major": 2,
       "version_minor": 0
      },
      "text/plain": [
       "Validation: |          | 0/? [00:00<?, ?it/s]"
      ]
     },
     "metadata": {},
     "output_type": "display_data"
    },
    {
     "data": {
      "application/vnd.jupyter.widget-view+json": {
       "model_id": "ab9794dcaeb64136b19759c0b978c9a0",
       "version_major": 2,
       "version_minor": 0
      },
      "text/plain": [
       "Validation: |          | 0/? [00:00<?, ?it/s]"
      ]
     },
     "metadata": {},
     "output_type": "display_data"
    },
    {
     "name": "stderr",
     "output_type": "stream",
     "text": [
      "`Trainer.fit` stopped: `max_epochs=8` reached.\n",
      "Trainer will use only 1 of 4 GPUs because it is running inside an interactive / notebook environment. You may try to set `Trainer(devices=4)` but please note that multi-GPU inside interactive / notebook environments is considered experimental and unstable. Your mileage may vary.\n",
      "GPU available: True (cuda), used: True\n",
      "TPU available: False, using: 0 TPU cores\n",
      "HPU available: False, using: 0 HPUs\n",
      "LOCAL_RANK: 0 - CUDA_VISIBLE_DEVICES: [0,1,2,3]\n",
      "\n",
      "  | Name              | Type             | Params | Mode \n",
      "---------------------------------------------------------------\n",
      "0 | feature_extractor | ResNet           | 25.6 M | eval \n",
      "1 | classifier        | Sequential       | 611 K  | train\n",
      "2 | fb                | BinaryFBetaScore | 0      | train\n",
      "3 | recall            | BinaryRecall     | 0      | train\n",
      "4 | precision         | BinaryPrecision  | 0      | train\n",
      "5 | roc               | BinaryROC        | 0      | train\n",
      "6 | accuracy          | BinaryAccuracy   | 0      | train\n",
      "---------------------------------------------------------------\n",
      "611 K     Trainable params\n",
      "25.6 M    Non-trainable params\n",
      "26.2 M    Total params\n",
      "104.674   Total estimated model params size (MB)\n",
      "15        Modules in train mode\n",
      "151       Modules in eval mode\n"
     ]
    },
    {
     "data": {
      "application/vnd.jupyter.widget-view+json": {
       "model_id": "32d1f9b94c8a42fa8546cb1772af6249",
       "version_major": 2,
       "version_minor": 0
      },
      "text/plain": [
       "Sanity Checking: |          | 0/? [00:00<?, ?it/s]"
      ]
     },
     "metadata": {},
     "output_type": "display_data"
    },
    {
     "data": {
      "application/vnd.jupyter.widget-view+json": {
       "model_id": "f74680b5ed074b4c94e1e95e844b5035",
       "version_major": 2,
       "version_minor": 0
      },
      "text/plain": [
       "Training: |          | 0/? [00:00<?, ?it/s]"
      ]
     },
     "metadata": {},
     "output_type": "display_data"
    },
    {
     "data": {
      "application/vnd.jupyter.widget-view+json": {
       "model_id": "ea5ea492d15f44d8a9e2d5eba33d3fba",
       "version_major": 2,
       "version_minor": 0
      },
      "text/plain": [
       "Validation: |          | 0/? [00:00<?, ?it/s]"
      ]
     },
     "metadata": {},
     "output_type": "display_data"
    },
    {
     "data": {
      "application/vnd.jupyter.widget-view+json": {
       "model_id": "fbeffe9277bd40d48edcec6a895cd3b0",
       "version_major": 2,
       "version_minor": 0
      },
      "text/plain": [
       "Validation: |          | 0/? [00:00<?, ?it/s]"
      ]
     },
     "metadata": {},
     "output_type": "display_data"
    },
    {
     "data": {
      "application/vnd.jupyter.widget-view+json": {
       "model_id": "a07a7e30777a4452b32c218e771cd4e2",
       "version_major": 2,
       "version_minor": 0
      },
      "text/plain": [
       "Validation: |          | 0/? [00:00<?, ?it/s]"
      ]
     },
     "metadata": {},
     "output_type": "display_data"
    },
    {
     "data": {
      "application/vnd.jupyter.widget-view+json": {
       "model_id": "1be897cd18cc48278db31937f9135f18",
       "version_major": 2,
       "version_minor": 0
      },
      "text/plain": [
       "Validation: |          | 0/? [00:00<?, ?it/s]"
      ]
     },
     "metadata": {},
     "output_type": "display_data"
    },
    {
     "data": {
      "application/vnd.jupyter.widget-view+json": {
       "model_id": "a52c8f5e6cc34c0d814156b31c74821c",
       "version_major": 2,
       "version_minor": 0
      },
      "text/plain": [
       "Validation: |          | 0/? [00:00<?, ?it/s]"
      ]
     },
     "metadata": {},
     "output_type": "display_data"
    },
    {
     "data": {
      "application/vnd.jupyter.widget-view+json": {
       "model_id": "2818d74057ca4402861efeea95157306",
       "version_major": 2,
       "version_minor": 0
      },
      "text/plain": [
       "Validation: |          | 0/? [00:00<?, ?it/s]"
      ]
     },
     "metadata": {},
     "output_type": "display_data"
    },
    {
     "data": {
      "application/vnd.jupyter.widget-view+json": {
       "model_id": "2b62993a400d46bda8f403e5846933ce",
       "version_major": 2,
       "version_minor": 0
      },
      "text/plain": [
       "Validation: |          | 0/? [00:00<?, ?it/s]"
      ]
     },
     "metadata": {},
     "output_type": "display_data"
    },
    {
     "data": {
      "application/vnd.jupyter.widget-view+json": {
       "model_id": "1ac5a49566b3400c8fe3a9b8e48300d6",
       "version_major": 2,
       "version_minor": 0
      },
      "text/plain": [
       "Validation: |          | 0/? [00:00<?, ?it/s]"
      ]
     },
     "metadata": {},
     "output_type": "display_data"
    },
    {
     "name": "stderr",
     "output_type": "stream",
     "text": [
      "`Trainer.fit` stopped: `max_epochs=8` reached.\n"
     ]
    }
   ],
   "source": [
    "def create_and_train_model(batch_size, learning_rate):\n",
    "\n",
    "    data_module = CustomDataModule(csv_file=config.EXPORT3, num_workers=4, batch_size=batch_size, mode='patch')\n",
    "    data_module.setup()\n",
    "\n",
    "    train_loader = data_module.train_dataloader()   \n",
    "    val_loader = data_module.val_dataloader()\n",
    "\n",
    "    model = PatchClassifier(feature_extractor=resnet, learning_rate=learning_rate)\n",
    "\n",
    "    trainer = L.Trainer(\n",
    "        max_epochs=8,\n",
    "        enable_progress_bar=True,\n",
    "        accelerator=\"gpu\" if device == \"cuda\" else \"cpu\"\n",
    "    )\n",
    "\n",
    "    trainer.fit(model, train_loader, val_loader)\n",
    "\n",
    "    metrics = trainer.callback_metrics \n",
    "\n",
    "    val_loss = metrics.get('val_loss', None)    \n",
    "    val_accuracy = metrics.get('val_accuracy', None) \n",
    "    val_fbeta = metrics.get('val_fbeta', None)\n",
    "    val_precision = metrics.get('val_precision', None)\n",
    "    val_recall = metrics.get('val_recall', None)\n",
    "\n",
    "    return {\n",
    "        \"batch_size\": batch_size,\n",
    "        \"learning_rate\": learning_rate,\n",
    "        \"val_loss\": val_loss,\n",
    "        \"val_accuracy\": val_accuracy,\n",
    "        \"val_fbeta\": val_fbeta,\n",
    "        \"val_precision\": val_precision,\n",
    "        \"val_recall\": val_recall\n",
    "    }\n",
    "\n",
    "\n",
    "batch_sizes = [32, 64]\n",
    "learning_rates = [0.01, 0.005, 0.001] \n",
    "best_fbeta = 0.0\n",
    "best_parameters = None\n",
    "\n",
    "for batch_size in batch_sizes:\n",
    "    for learning_rate in learning_rates:\n",
    "\n",
    "        grid_result = create_and_train_model(batch_size=batch_size, learning_rate=learning_rate)\n",
    "        fbeta = grid_result['val_fbeta']\n",
    "\n",
    "        # compare with the best validation f-beta\n",
    "        if fbeta > best_fbeta:\n",
    "            best_fbeta = fbeta\n",
    "            best_parameters = grid_result\n",
    "            print(f\"New best model saved with F-beta: {best_fbeta} at batch size {batch_size} and learning rate {learning_rate}\")"
   ]
  },
  {
   "cell_type": "code",
   "execution_count": 4,
   "metadata": {},
   "outputs": [
    {
     "data": {
      "text/plain": [
       "{'batch_size': 32,\n",
       " 'learning_rate': 0.001,\n",
       " 'val_loss': tensor(0.1567),\n",
       " 'val_accuracy': None,\n",
       " 'val_fbeta': tensor(0.9605),\n",
       " 'val_precision': tensor(0.9593),\n",
       " 'val_recall': tensor(0.9682)}"
      ]
     },
     "execution_count": 4,
     "metadata": {},
     "output_type": "execute_result"
    }
   ],
   "source": [
    "best_parameters"
   ]
  },
  {
   "cell_type": "markdown",
   "metadata": {},
   "source": [
    "RETRAINING"
   ]
  },
  {
   "cell_type": "code",
   "execution_count": 5,
   "metadata": {},
   "outputs": [
    {
     "name": "stderr",
     "output_type": "stream",
     "text": [
      "Trainer will use only 1 of 4 GPUs because it is running inside an interactive / notebook environment. You may try to set `Trainer(devices=4)` but please note that multi-GPU inside interactive / notebook environments is considered experimental and unstable. Your mileage may vary.\n",
      "GPU available: True (cuda), used: True\n",
      "TPU available: False, using: 0 TPU cores\n",
      "HPU available: False, using: 0 HPUs\n",
      "/home/zeus/miniconda3/envs/cloudspace/lib/python3.10/site-packages/lightning/pytorch/trainer/configuration_validator.py:70: You defined a `validation_step` but have no `val_dataloader`. Skipping val loop.\n",
      "LOCAL_RANK: 0 - CUDA_VISIBLE_DEVICES: [0,1,2,3]\n",
      "\n",
      "  | Name              | Type             | Params | Mode \n",
      "---------------------------------------------------------------\n",
      "0 | feature_extractor | ResNet           | 25.6 M | eval \n",
      "1 | classifier        | Sequential       | 611 K  | train\n",
      "2 | fb                | BinaryFBetaScore | 0      | train\n",
      "3 | recall            | BinaryRecall     | 0      | train\n",
      "4 | precision         | BinaryPrecision  | 0      | train\n",
      "5 | roc               | BinaryROC        | 0      | train\n",
      "6 | accuracy          | BinaryAccuracy   | 0      | train\n",
      "---------------------------------------------------------------\n",
      "611 K     Trainable params\n",
      "25.6 M    Non-trainable params\n",
      "26.2 M    Total params\n",
      "104.674   Total estimated model params size (MB)\n",
      "15        Modules in train mode\n",
      "151       Modules in eval mode\n"
     ]
    },
    {
     "data": {
      "application/vnd.jupyter.widget-view+json": {
       "model_id": "fe6180b0d77943c7bbbbde7eac4da6cc",
       "version_major": 2,
       "version_minor": 0
      },
      "text/plain": [
       "Training: |          | 0/? [00:00<?, ?it/s]"
      ]
     },
     "metadata": {},
     "output_type": "display_data"
    },
    {
     "name": "stderr",
     "output_type": "stream",
     "text": [
      "`Trainer.fit` stopped: `max_epochs=8` reached.\n"
     ]
    }
   ],
   "source": [
    "trainer = L.Trainer(\n",
    "    max_epochs=8,\n",
    "    enable_progress_bar=True,\n",
    "    accelerator=\"gpu\" if device == \"cuda\" else \"cpu\",\n",
    "    logger=tensorboard_logger\n",
    ")\n",
    "\n",
    "model = PatchClassifier(feature_extractor=resnet, learning_rate=best_parameters['learning_rate'])\n",
    "\n",
    "combined_dataset = ConcatDataset([train_loader.dataset, val_loader.dataset])\n",
    "combined_loader = DataLoader(combined_dataset, batch_size=best_parameters['batch_size'], shuffle=True, num_workers=4)\n",
    "\n",
    "trainer.fit(model, combined_loader)\n",
    "\n",
    "best_model_path = \"models/final_classifier.pth\"\n",
    "trainer.save_checkpoint(best_model_path)\n"
   ]
  },
  {
   "cell_type": "markdown",
   "metadata": {},
   "source": [
    "HOLD-OUT"
   ]
  },
  {
   "cell_type": "code",
   "execution_count": 3,
   "metadata": {},
   "outputs": [
    {
     "name": "stderr",
     "output_type": "stream",
     "text": [
      "GPU available: True (cuda), used: True\n",
      "TPU available: False, using: 0 TPU cores\n",
      "HPU available: False, using: 0 HPUs\n"
     ]
    },
    {
     "name": "stderr",
     "output_type": "stream",
     "text": [
      "/home/zeus/miniconda3/envs/cloudspace/lib/python3.10/site-packages/lightning/pytorch/trainer/configuration_validator.py:70: You defined a `validation_step` but have no `val_dataloader`. Skipping val loop.\n",
      "LOCAL_RANK: 0 - CUDA_VISIBLE_DEVICES: [0]\n",
      "\n",
      "  | Name              | Type                  | Params | Mode \n",
      "--------------------------------------------------------------------\n",
      "0 | feature_extractor | ResNet                | 25.6 M | eval \n",
      "1 | confusion_matrix  | BinaryConfusionMatrix | 0      | train\n",
      "2 | classifier        | Sequential            | 611 K  | train\n",
      "3 | fb                | BinaryFBetaScore      | 0      | train\n",
      "4 | recall            | BinaryRecall          | 0      | train\n",
      "5 | precision         | BinaryPrecision       | 0      | train\n",
      "6 | roc               | BinaryROC             | 0      | train\n",
      "7 | accuracy          | BinaryAccuracy        | 0      | train\n",
      "--------------------------------------------------------------------\n",
      "611 K     Trainable params\n",
      "25.6 M    Non-trainable params\n",
      "26.2 M    Total params\n",
      "104.674   Total estimated model params size (MB)\n",
      "16        Modules in train mode\n",
      "151       Modules in eval mode\n"
     ]
    },
    {
     "data": {
      "application/vnd.jupyter.widget-view+json": {
       "model_id": "614610582c7b42edae046af2dfc43e67",
       "version_major": 2,
       "version_minor": 0
      },
      "text/plain": [
       "Training: |          | 0/? [00:00<?, ?it/s]"
      ]
     },
     "metadata": {},
     "output_type": "display_data"
    }
   ],
   "source": [
    "trainer = L.Trainer(\n",
    "    max_epochs=8,\n",
    "    enable_progress_bar=True,\n",
    "    accelerator=\"gpu\" if device == \"cuda\" else \"cpu\",\n",
    "    logger=tensorboard_logger\n",
    ")\n",
    "\n",
    "model = PatchClassifier(feature_extractor=resnet, learning_rate=0.001)\n",
    "\n",
    "trainer.fit(model, train_loader)\n",
    "\n",
    "trainer.validate(val_loader)"
   ]
  },
  {
   "cell_type": "code",
   "execution_count": null,
   "metadata": {},
   "outputs": [],
   "source": []
  }
 ],
 "metadata": {
  "language_info": {
   "name": "python"
  }
 },
 "nbformat": 4,
 "nbformat_minor": 2
}
